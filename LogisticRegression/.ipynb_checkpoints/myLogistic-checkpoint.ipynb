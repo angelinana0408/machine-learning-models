{
 "cells": [
  {
   "cell_type": "code",
   "execution_count": 67,
   "metadata": {},
   "outputs": [
    {
     "name": "stdout",
     "output_type": "stream",
     "text": [
      "[ 1.13467281  3.81925547 -2.4878424 ]\n"
     ]
    }
   ],
   "source": [
    "import math\n",
    "import numpy\n",
    "#-------------------------------------------------------------------\n",
    "def log(n):\n",
    "    return math.log(n)\n",
    "#-------------------------------------------------------------------\n",
    "def exp(n):\n",
    "    return math.exp(n)\n",
    "#-------------------------------------------------------------------\n",
    "class logistic:\n",
    "    #******************************************************\n",
    "    def __init__(self, parameters):\n",
    "        self.parameters = numpy.transpose(parameters)\n",
    "         #******************DATA*******************************\n",
    "        self.x = numpy.array([[1.0, 60.0, 155.0], [1.0, 64.0,135.0], [1.0, 73.0, 170.0]])   \n",
    "        self.y = numpy.array([0.0, 1.0, 1.0]) #0--Deceased, 1--Alived\n",
    "    #******************************************************\n",
    "    ########## Feel Free to Add Helper Functions ##########\n",
    "    #******************************************************\n",
    "    def applyZScore(self):\n",
    "        \n",
    "        mean = numpy.zeros(self.x.shape[1])\n",
    "        mean.fill(0.0)\n",
    "        SD = numpy.zeros(self.x.shape[1])\n",
    "        SD.fill(0.0)\n",
    "        \n",
    "        for index in range(self.x.shape[1]):\n",
    "            sum0 = 0.0\n",
    "            sum1 = 0.0\n",
    "            for i in range(self.x.shape[0]):\n",
    "                sum0 = sum0 + self.x[i][index]\n",
    "                \n",
    "            mean[index] = sum0 / self.x.shape[0]\n",
    "            for j in range(self.x.shape[0]):\n",
    "                sum1 = sum1 + (self.x[j][index] - mean[index])*(self.x[j][index] - mean[index])\n",
    "            SD[index] = math.sqrt(sum1/(self.x.shape[0]))\n",
    "        for n in range(self.x.shape[1]):\n",
    "            for m in range(self.x.shape[0]):\n",
    "                if SD[n] != 0:\n",
    "                    self.x[m][n] = (self.x[m][n] - mean[n])/SD[n]\n",
    "        \n",
    "    def log_likelihood(self):\n",
    "        self.applyZScore()\n",
    "        ll = 0.0\n",
    "        ##################### Please Fill Missing Lines Here #####################\n",
    "        temp = self.x.transpose().dot(self.parameters)\n",
    "        \n",
    "        for i in range(self.x.shape[0]):\n",
    "            ll = ll + self.y[i]*(temp[i])-log(1+exp(temp[i]))  \n",
    "        return ll\n",
    "    #******************************************************\n",
    "    def gradients(self):\n",
    "        gradients = []\n",
    "        ##################### Please Fill Missing Lines Here #####################\n",
    "        for j in range(self.x.shape[1]):\n",
    "            temp = 0.0\n",
    "            for i in range(self.x.shape[0]):\n",
    "                expVal = (self.parameters).dot(self.x[i])\n",
    "                p_xi_beta = exp(expVal)/(1+exp(expVal))\n",
    "                temp = temp + self.x[i][j]*(self.y[i]-p_xi_beta)\n",
    "            gradients.append(temp)    \n",
    "           \n",
    "        return gradients\n",
    "    #******************************************************\n",
    "    def iterate(self):\n",
    "        ##################### Please Fill Missing Lines Here #####################\n",
    "        self.applyZScore()\n",
    "        self.parameters = self.parameters - (numpy.linalg.inv(self.hessian())).dot(self.gradients())\n",
    "        \n",
    "        return self.parameters\n",
    "    #******************************************************\n",
    "    def hessian(self):\n",
    "        n = len(self.parameters)\n",
    "        hessian = numpy.zeros((n, n))\n",
    "        hessian.fill(0.0)\n",
    "        ##################### Please Fill Missing Lines Here #####################\n",
    "        for j in range(n):\n",
    "            for p in range(n):\n",
    "                temp = 0.0\n",
    "                for i in range(self.x.shape[0]):\n",
    "                    expVal = (self.parameters).dot(self.x[i])\n",
    "                    p_xi_beta = exp(expVal)/(1+exp(expVal))\n",
    "                    temp = temp + self.x[i][j]*self.x[i][p]*p_xi_beta*(1-p_xi_beta)\n",
    "                hessian[j][p] = temp*(-1.0)\n",
    "        return hessian\n",
    "#-------------------------------------------------------------------\n",
    "#parameters = numpy.array([0.000025, 0.000025, 0.000025])\n",
    "parameters = numpy.array([0.25, 0.25, 0.25])\n",
    "##################### Please Fill Missing Lines Here #####################\n",
    "## initialize parameters\n",
    "l = logistic(parameters)\n",
    "parameters = l.iterate()\n",
    "l = logistic(parameters)\n",
    "print l.iterate()"
   ]
  },
  {
   "cell_type": "code",
   "execution_count": null,
   "metadata": {
    "collapsed": true
   },
   "outputs": [],
   "source": []
  },
  {
   "cell_type": "code",
   "execution_count": null,
   "metadata": {
    "collapsed": true
   },
   "outputs": [],
   "source": []
  }
 ],
 "metadata": {
  "kernelspec": {
   "display_name": "Python 2",
   "language": "python",
   "name": "python2"
  },
  "language_info": {
   "codemirror_mode": {
    "name": "ipython",
    "version": 2
   },
   "file_extension": ".py",
   "mimetype": "text/x-python",
   "name": "python",
   "nbconvert_exporter": "python",
   "pygments_lexer": "ipython2",
   "version": "2.7.13"
  }
 },
 "nbformat": 4,
 "nbformat_minor": 2
}
